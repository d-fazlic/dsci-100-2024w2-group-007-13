{
 "cells": [
  {
   "cell_type": "markdown",
   "id": "b12870b9-614c-4732-8404-4fd392d683d2",
   "metadata": {},
   "source": [
    "# Investigating age in the player.csv dataset to predict playing hours \n",
    "## Introduction\n",
    "### Background Information & the question:\n",
    "A research group led by Frank Wood at UBC is collecting data and using it to understand how people play video games, in particular Minecraft. Wood and his team have three broad questions they would like to address:\n",
    "\n",
    "Question 1: What player characteristics and behaviours are most predictive of subscribing to a game-related newsletter, and how do these features differ between various player types?\n",
    "\n",
    "Question 2: What \"kinds\" of players are most likely to contribute to a large amount of data?\n",
    "\n",
    "Question 3: What time windows are most likely to have large numbers of simultaneous players.\n",
    "\n",
    "Wood and his team collected two datasets, `players.csv` and `sessions.csv`.\n",
    "\n",
    "In this project, using the data sets collected from Wood and his team, we will attempt to answer the question:\n",
    "\n",
    "\"Can the **age** of a player help predict the **playing time** of users in the `players.csv` dataset?\"\n",
    "### The Dataset:\n",
    "In the `players.csv` dataset there are 196 observations and 7 different variables.\n",
    "\n",
    "- `experience`: Indicates the category of skill level\n",
    "\n",
    "- `subscribe`: Indicates whether a player is subscribed (TRUE) or not (FALSE), a logical value\n",
    "\n",
    "- `hashed_email`: Indicates the players unique email, character data\n",
    "\n",
    "- `played_hours`: Indicates number of hours spent playing, a numeric value\n",
    "\n",
    "- `name`: Indicates the players name, character data\n",
    "\n",
    "- `gender`: Indicates the players gender identity, a categorical value\n",
    "\n",
    "- `age`: Indicates the players age in years, a numeric value\n",
    "\n",
    "There are a few issues with the dataset including:\n",
    "1. The option for players to report \"prefer not to say\" for gender. This could cause issues when using gender as a predictive variable as it introduces uncertainty and missing data,\n",
    "2. NA (missing data) values throughout the columns, this could lead to less accurate predictions\n",
    "3. Disproportionate hours played between experience levels\n",
    "\n",
    "Issues regarding the disproportionate hours played could be due to players with greater experience finding less enjoyment in playing the game and thus playing it less during the observational period. The large age range of study participants could also affect the data collected depending on what time of the year the observations took place (e.g. high-school aged participants and older may have other commitments from September-June which could affect their playing hours). The data was likely collected from sign-up information alongside tracking data for `played_hours`."
   ]
  },
  {
   "cell_type": "markdown",
   "id": "93dd1dd6-66c0-4d50-9e67-80f1f0f011be",
   "metadata": {},
   "source": [
    "## Methods and Results"
   ]
  },
  {
   "cell_type": "markdown",
   "id": "a641ccb4-725c-4580-b4e4-dba2dbdc1195",
   "metadata": {},
   "source": [
    "### 1. Preprocessing and exploratory data analysis"
   ]
  },
  {
   "cell_type": "markdown",
   "id": "16c526ad-ac7f-44e3-9608-4be840cc3e1f",
   "metadata": {},
   "source": [
    "#### Importing the necessary libraries"
   ]
  },
  {
   "cell_type": "code",
   "execution_count": null,
   "id": "905c5346-13c1-4e1e-b311-ea86a5d49598",
   "metadata": {},
   "outputs": [],
   "source": [
    "library(repr)\n",
    "library(tidyverse)\n",
    "library(tidymodels)\n",
    "options(repr.matrix.max.rows = 10)"
   ]
  },
  {
   "cell_type": "markdown",
   "id": "4221f3fa-a7b1-49d2-8aaf-e631f15e7ca7",
   "metadata": {},
   "source": [
    "#### Importing the dataset "
   ]
  },
  {
   "cell_type": "code",
   "execution_count": null,
   "id": "a67b3a4c-b2f6-42e8-978d-8ce8edec9f23",
   "metadata": {},
   "outputs": [],
   "source": [
    "player_data <- read_csv(\"https://raw.githubusercontent.com/bellamartens/Individual_Project/refs/heads/main/players.csv\")\n",
    "\n",
    "player_data"
   ]
  },
  {
   "cell_type": "markdown",
   "id": "1535d4fd-cc79-4537-b161-f5369d0feb40",
   "metadata": {},
   "source": [
    "*figure 1*: players.csv dataset"
   ]
  },
  {
   "cell_type": "markdown",
   "id": "f6e8c128-36c7-40c1-a447-ac294e65e081",
   "metadata": {},
   "source": [
    "#### Wrangling the data"
   ]
  },
  {
   "cell_type": "markdown",
   "id": "7736578b-9c1a-4099-b4e2-ae49c1f3f726",
   "metadata": {},
   "source": [
    "As we can see above, the column names **hashedEmail** and **Age** are not properly named and need to be changed to follow the format of the other titles. Furthermore, any rows containing \"NA\" in the `age` column of the dataset were removed, as a regression model would not be able to predict `played_hours` values for those rows. "
   ]
  },
  {
   "cell_type": "code",
   "execution_count": null,
   "id": "3d741c1e-ee1c-42d9-8ab8-05d5dbc45eed",
   "metadata": {},
   "outputs": [],
   "source": [
    "player_data <- rename(player_data,\n",
    "                      hashed_email = hashedEmail,\n",
    "                      age = Age) |>\n",
    "               filter(age != \"NA\")\n",
    "\n",
    "player_data"
   ]
  },
  {
   "cell_type": "markdown",
   "id": "602b2ecf-9244-4ea5-81bf-e1f6b852c225",
   "metadata": {},
   "source": [
    "*figure 2*: Tidied dataset"
   ]
  },
  {
   "cell_type": "markdown",
   "id": "24bae933-f800-4549-afb6-2d9d571f4e70",
   "metadata": {},
   "source": [
    "#### Splitting the data into training and testing sets"
   ]
  },
  {
   "cell_type": "markdown",
   "id": "8a79a54a-bfea-4463-9de8-b0728cdafb07",
   "metadata": {},
   "source": [
    "We use `initial_split` to randomly divide our data into training and testing sets, which helps prevent bias and ensures our model is evaluated on unseen data. \n",
    "\n",
    "This split allows us to train the model effectively while keeping a separate portion for assessing its performance.\n",
    "\n",
    "75% and 25% is a standard split for this type of analysis. \n",
    "\n",
    "Now we will work with training data for exploratory data analysis."
   ]
  },
  {
   "cell_type": "code",
   "execution_count": null,
   "id": "492973c0-1bf0-4b6e-ba78-84a9679c71fd",
   "metadata": {},
   "outputs": [],
   "source": [
    "set.seed(3000)\n",
    "player_split <- initial_split(player_data, prop = 0.75, strata = played_hours)\n",
    "player_training <- training(player_split)\n",
    "player_testing <- testing(player_split)"
   ]
  },
  {
   "cell_type": "markdown",
   "id": "63fbcb67-b5f6-4122-a19c-e613ee360c98",
   "metadata": {},
   "source": [
    "#### Summary statistics for the training data"
   ]
  },
  {
   "cell_type": "markdown",
   "id": "1c960b9f-63c0-4d1c-b0b0-0e5d22ea1429",
   "metadata": {},
   "source": [
    "Using `group_by` and `summarize` functions, data analysis will be performed to better understand trends and relationships in the data set.\n",
    "\n",
    "The mean, median and standard deviation for the age will be calculated to check for unusual age ranges.\n",
    "\n",
    "The mean, median and standard deviation for the playing hours will be calculated to check for outliers."
   ]
  },
  {
   "cell_type": "code",
   "execution_count": null,
   "id": "76bb0ad3-5a12-4c9f-9d17-fbb12a3aef45",
   "metadata": {},
   "outputs": [],
   "source": [
    "played_hours_stats <- player_training |>\n",
    "             summarize(mean_played_hours = mean(played_hours, na.rm = TRUE),\n",
    "                       median_played_hours = median(played_hours, na.rm = TRUE),\n",
    "                       sd_played_hours = sd(played_hours, na.rm = TRUE))\n",
    "                        \n",
    "                                            \n",
    "age_stats <- player_training |>\n",
    "                summarize(mean_age = mean(age, na.rm = TRUE),\n",
    "                          median_age = median(age, na.rm = TRUE),\n",
    "                          sd_age = sd(age, na.rm = TRUE))\n",
    "                                            \n",
    "                          \n",
    "played_hours_stats\n",
    "age_stats"
   ]
  },
  {
   "cell_type": "markdown",
   "id": "55f4a4a2-881f-4886-920a-bf783924ead7",
   "metadata": {},
   "source": [
    "*figure 3*: Summary statistics for `age` and `played_hours`"
   ]
  },
  {
   "cell_type": "markdown",
   "id": "f9f8f591-ed89-4171-946d-3ab3c770aa0d",
   "metadata": {},
   "source": [
    "Reported  playing hours ranged from 0 to 218.1 hours (mean: 4.5, SD: 20.7), with a few high values indicating potential outliers. Many players reported playing no hours which  limits the model’s ability to accurately learn patterns between age and playing hours. \n",
    "\n",
    "The dataset contains 196 participants aged between 8 and 42 (mean age: 20, SD: 5.7). "
   ]
  },
  {
   "cell_type": "markdown",
   "id": "e5d1312e-04ec-42cc-b8bf-cadbd515a137",
   "metadata": {},
   "source": [
    "#### Data Visualization"
   ]
  },
  {
   "cell_type": "code",
   "execution_count": null,
   "id": "693e4498-3224-4c8c-8aa2-9ae83dff7eed",
   "metadata": {},
   "outputs": [],
   "source": [
    "options(repr.plot.width = 7, repr.plot.height = 7) \n",
    "\n",
    "plot_1 <- player_training |> \n",
    "          ggplot(aes(x = age, y = played_hours)) +\n",
    "          geom_point () +\n",
    "          labs(x = \"User Age (years)\", y = \"Time spent playing (hours)\") +\n",
    "          ggtitle(\"How age influences playing hours\") +\n",
    " theme(text = element_text(size = 13))\n",
    "\n",
    "plot_1"
   ]
  },
  {
   "cell_type": "markdown",
   "id": "8194cd9c-c1e7-434e-9069-ba401a985c51",
   "metadata": {},
   "source": [
    "*figure 4*: Scatterplot of hours played vs. user age"
   ]
  },
  {
   "cell_type": "markdown",
   "id": "0093e123-1bcd-4882-bf75-fcff97540e27",
   "metadata": {},
   "source": [
    "This scatter plot very loosely shows that ages ranging between 16-22 may have higher playing hours. These are the only ages where there are outliers with very high playing hours (150hrs+). However much of the data doesn't report playing hours for many of the ages, meaning the relationship is unable to be confirmed.  "
   ]
  },
  {
   "cell_type": "markdown",
   "id": "458abe22-86ce-4225-863f-88f6f4f71496",
   "metadata": {},
   "source": [
    "### 2. Data Analysis"
   ]
  },
  {
   "cell_type": "markdown",
   "id": "02eec444-969f-4a6b-ab3f-ad5d5d75b2be",
   "metadata": {},
   "source": [
    "Create a specification for this model that indicates we are performing a K nearest-neighbors regression analysis on the data. A regression model is the best option for this type of data analysis as the predicted value is a quantitative variable."
   ]
  },
  {
   "cell_type": "code",
   "execution_count": null,
   "id": "e5f3ff28-1918-45d3-bde0-c2db021fbeac",
   "metadata": {},
   "outputs": [],
   "source": [
    "# setting up the kknn model\n",
    "set.seed(3000)\n",
    "player_spec <- nearest_neighbor(weight_func = \"rectangular\", neighbors = tune()) |> \n",
    "      set_engine(\"kknn\") |>\n",
    "      set_mode(\"regression\") "
   ]
  },
  {
   "cell_type": "markdown",
   "id": "44060535-8839-486b-99f2-a85347d698cd",
   "metadata": {},
   "source": [
    "Preprocess the data for Knn regression by creating a recipe. In this case we are using \"age\" as the sole predictor. Then use `step_scale()` and `step_center()` on the predictors to ensure no one predictor is having a more significant effect on the outcomes. "
   ]
  },
  {
   "cell_type": "code",
   "execution_count": null,
   "id": "fc6b9902-f586-4930-a7de-3d1b5c1b0ced",
   "metadata": {},
   "outputs": [],
   "source": [
    "# setting up the recipe\n",
    "set.seed(3000)\n",
    "player_recipe <- recipe(played_hours ~ age, data = player_training) |>\n",
    "      step_scale(all_predictors()) |>\n",
    "      step_center(all_predictors())"
   ]
  },
  {
   "cell_type": "markdown",
   "id": "a5841a2a-a6bf-4e3f-939c-810a28a368f0",
   "metadata": {},
   "source": [
    "**Creating splits in the training data for a 5 fold cross validation.** \n",
    "\n",
    "This means we are splitting the data into 5 parts and conducting the analysis 5 times, each using 4 parts for training and 1 part for validation.\n",
    "\n",
    "A 5 fold cross validation is standard for this analysis.\n",
    "\n",
    "Create a workflow that combines the previous model specifications and the recipe created. "
   ]
  },
  {
   "cell_type": "code",
   "execution_count": null,
   "id": "3983c9d7-7fef-44de-baa6-f3f8f139eeae",
   "metadata": {},
   "outputs": [],
   "source": [
    "# creating the vfold and workflow to begin looking for the best k value to use\n",
    "set.seed(3000)\n",
    "player_vfold <- vfold_cv(player_training, v = 5, strata = played_hours)\n",
    "\n",
    "player_workflow <- workflow() |>\n",
    "  add_recipe(player_recipe) |>\n",
    "  add_model(player_spec)"
   ]
  },
  {
   "cell_type": "markdown",
   "id": "68fab9b4-e84f-4400-bae4-489ea24223c0",
   "metadata": {},
   "source": [
    "We will then run the cross validation using grid numbers 1 to 100 by intervals of 5.\n",
    "\n",
    "We then tune the grid created to test all the values for K and collect metrics to find out some more information on the different possible K values.\n",
    "\n",
    "A vizualization can then be made off these results to show the accuracy of K-values in graph format."
   ]
  },
  {
   "cell_type": "code",
   "execution_count": null,
   "id": "750b3513-2e35-4a39-9890-e0dc25ac5e0c",
   "metadata": {},
   "outputs": [],
   "source": [
    "# getting the metrics to see which k values have the best rmse\n",
    "set.seed(3000)\n",
    "gridvals <- tibble(neighbors = seq(from = 1, to = 100, by = 5))\n",
    "\n",
    "player_results <- player_workflow |>\n",
    "  tune_grid(resamples = player_vfold, grid = gridvals) |>\n",
    "  collect_metrics()\n",
    "\n",
    "options(repr.plot.height = 6, repr.plot.width = 12)\n",
    "\n",
    "player_results_graph <- player_results |> filter(.metric == \"rmse\") |>\n",
    "                        ggplot(aes(x = neighbors, y = mean)) +\n",
    "                                geom_line() +\n",
    "                                labs(x = \"K-value\",\n",
    "                                     y = \"Accuracy\",\n",
    "                                     title = \"KNN regression model accuracy for several K values\") +\n",
    "                                theme(text = element_text(size = 20))\n",
    "\n",
    "player_results_graph"
   ]
  },
  {
   "cell_type": "markdown",
   "id": "b1fe314a-af4d-45eb-8908-5da6f90823b0",
   "metadata": {},
   "source": [
    "*figure 5*: Graph of Accuracy vs. K-value"
   ]
  },
  {
   "cell_type": "markdown",
   "id": "55128c4b-56af-48ee-bdb1-1095601f71bc",
   "metadata": {},
   "source": [
    "**To find the best K value using the RMSPE,** we take the previous workflow and produce metrics and filter by `rmse`, then use the `slice_min()` function to highlight the K value with the lowest RMSPE. Finding the minimum RMSPE and its metrics to find which number of neighbors “K” gives the lowest standard error."
   ]
  },
  {
   "cell_type": "code",
   "execution_count": null,
   "id": "c8a613be-8e74-499a-ab60-4597429faaa0",
   "metadata": {},
   "outputs": [],
   "source": [
    "# filtering for the best k value\n",
    "set.seed(3000)\n",
    "player_min <- player_results |>\n",
    "   filter(.metric == 'rmse') |>\n",
    "   slice_min(mean)\n",
    "\n",
    "player_min"
   ]
  },
  {
   "cell_type": "markdown",
   "id": "182d2213-1f0d-489f-a80a-e221e207dfec",
   "metadata": {},
   "source": [
    "*figure 6*: Best K value (26)"
   ]
  },
  {
   "cell_type": "markdown",
   "id": "401da258-df3d-4a8e-a355-655e79029a90",
   "metadata": {},
   "source": [
    "#### Knn Regression\n",
    "\n",
    "We then extract that K value using the `pull()` function to create a new value `k_min` that will return the best K value when used in the next analysis. \n",
    "\n",
    "The nearest neighbor function is used again but this time we set the neighbors argument equal to the `k_min` value. Same as before we will use set_engine to specify the kknn engine and use `set_mode()` to specify we are performing a regression analysis.\n",
    "\n",
    "A workflow is then created to combine the initial recipe with the new nearest neighbor specification and is fitted to the training data."
   ]
  },
  {
   "cell_type": "code",
   "execution_count": null,
   "id": "d8f3f066-cf8d-4f00-979d-e8a31411a08a",
   "metadata": {},
   "outputs": [],
   "source": [
    "# using the best k value to make the best model and workflow\n",
    "set.seed(3000)\n",
    "k_min <- player_min |>\n",
    "         pull(neighbors)\n",
    "\n",
    "player_best_spec <- nearest_neighbor(weight_func = 'rectangular', neighbors = k_min) |>\n",
    "         set_engine('kknn') |>\n",
    "         set_mode('regression')\n",
    "\n",
    "player_best_fit <- workflow() |>\n",
    "         add_recipe(player_recipe) |>\n",
    "         add_model(player_best_spec) |>\n",
    "         fit(data = player_training)"
   ]
  },
  {
   "cell_type": "markdown",
   "id": "aa38b3d3-f5e6-40a8-8244-47a4237688a6",
   "metadata": {},
   "source": [
    "We can then create a summary using the our best fit model on the testing data to see how accurate the model is.\n",
    "\n",
    "The larger the `.estimate` value is for the `rmse`, the worse the model is at fitting out data."
   ]
  },
  {
   "cell_type": "code",
   "execution_count": null,
   "id": "a6c7c2b8-d264-4d7e-8ef6-61ee0694b9e8",
   "metadata": {},
   "outputs": [],
   "source": [
    "# getting the summary results of the best model to use for prediction and vizualization\n",
    "set.seed(3000)\n",
    "player_summary <- player_best_fit |>\n",
    "          predict(player_testing) |>\n",
    "          bind_cols(player_testing) |>\n",
    "          metrics(truth = played_hours, estimate = .pred) |>\n",
    "          filter(.metric == \"rmse\")\n",
    "\n",
    "player_summary"
   ]
  },
  {
   "cell_type": "markdown",
   "id": "8707fbd4-08df-4fed-b5ad-d91e8a347375",
   "metadata": {},
   "source": [
    "*figure 7*: `rmse` of the best model"
   ]
  },
  {
   "cell_type": "markdown",
   "id": "1ca097d4-4fd5-4f9e-aed2-2d99829ccd48",
   "metadata": {},
   "source": [
    "Creating a plot to visualize our regression model against the data."
   ]
  },
  {
   "cell_type": "code",
   "execution_count": null,
   "id": "c399725d-bcef-4b56-85e2-6f9b540d68b3",
   "metadata": {},
   "outputs": [],
   "source": [
    "# creating the vizualization of the best k value regression line\n",
    "set.seed(3000)\n",
    "options(repr.plot.width = 7, repr.plot.height = 7)\n",
    "\n",
    "player_preds <- player_best_fit |>\n",
    "  predict(player_training) |>\n",
    "  bind_cols(player_training)\n",
    "\n",
    "player_plot <- ggplot(player_preds, aes(x = age, y = played_hours)) +\n",
    "  geom_point(alpha = 0.6) +\n",
    "  geom_line(data = player_preds,\n",
    "            mapping = aes(x = age, y = .pred),\n",
    "            color = \"blue\") +\n",
    "              xlab(\"Player age (years)\") +\n",
    "              ylab(\"Time played (hours)\") +\n",
    "                ggtitle('K = 26 Regression line for Time Played vs. Age') +\n",
    "            theme(text = element_text(size = 14))\n",
    "\n",
    "player_plot"
   ]
  },
  {
   "cell_type": "markdown",
   "id": "bcd4b5c3-17e6-46e1-9187-df2d747b3fa7",
   "metadata": {},
   "source": [
    "*figure 8*: vizualization of regression model predictions against the data"
   ]
  },
  {
   "cell_type": "markdown",
   "id": "c30f9744-507f-40f8-b791-9affb69b27e6",
   "metadata": {},
   "source": [
    "## Discussion"
   ]
  },
  {
   "cell_type": "markdown",
   "id": "5af7d66a-9c6d-4075-950b-69974143e2c2",
   "metadata": {},
   "source": [
    "### Summarize what you found.\n",
    "\n",
    "The model does not represent the data very well. Our analysis conclcuded that the best K value for this knn regression analysis was 26. However when we calculated the RMSPE for this model we found that the rmse error was ~33. A large number in this case means that our model was not very accurate and for any age selected the model would be able to predict the players playing hours within 33 hours. 33 hours is a lot and isn't an accrate prediction.\n",
    "\n",
    "### Discuss whether this is what you expected to find?\n",
    "\n",
    "This was expected because as the exploratory data analysis showed large outliers in the `played_hours' variable, alongside a large number of users that have played for zero hours. These issues in the dataset make it difficult to pred\n",
    "\n",
    "It was a relatively small dataset and therefore does not offer enough data to investigate whether there is a correlation between age and playing hours.\n",
    "\n",
    "There were outliers within the dataset (i.e, players with zero playing hours, players with hundreds of playing hours), that were not representative of the general populations playing habits\n",
    "\n",
    "\n",
    "### Discuss what impact could such findings have?\n",
    "\n",
    "If the data did show a strong correlation between players age and their play time this information could be used for improvement and specialization of the game. \n",
    "\n",
    "If we were able to find out people's age based on their playing hours, and for example we found that the most hours were played by users aged 19-25 the content could be better tailored to that age group, improving the experience for the people playing the most.\n",
    "\n",
    "### Discuss what future questions could this lead to?\n",
    "If we found that age isn’t able to accurately predict the playing time of users on this game the next logical question to ask would be what is accurately able to predict the hours played.\n",
    "\n",
    "We could test some of the other variables like gender, experience or subscription to see if any of them have a closer relationship to hours played.\n",
    "\n",
    "Maybe none of them do on their own and we would need a combination of variables to yield a more accurate prediction. \n"
   ]
  }
 ],
 "metadata": {
  "kernelspec": {
   "display_name": "R",
   "language": "R",
   "name": "ir"
  },
  "language_info": {
   "codemirror_mode": "r",
   "file_extension": ".r",
   "mimetype": "text/x-r-source",
   "name": "R",
   "pygments_lexer": "r",
   "version": "4.3.3"
  }
 },
 "nbformat": 4,
 "nbformat_minor": 5
}
