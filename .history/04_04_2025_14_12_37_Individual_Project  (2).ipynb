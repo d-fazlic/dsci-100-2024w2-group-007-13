{
 "cells": [
  {
   "cell_type": "markdown",
   "id": "b77618ab-7c44-44b4-b4eb-3267eddb05ef",
   "metadata": {},
   "source": [
    "**Investigating the relationship between playing hours and age in the player_csv dataset**"
   ]
  },
  {
   "cell_type": "markdown",
   "id": "4b512b7a-cd82-4969-bd39-3e587dc5e34e",
   "metadata": {},
   "source": [
    "(1) **Data description**\n",
    "\n",
    "-In this data set there are 196 observations\n",
    "\n",
    "-There are 7 different variables. `hashed_email` and `name` have been excluded **in analysis** as they are unique to individuals and don't serve as predictors, therefore there are 5 predictive variables\n",
    "\n",
    "`experience`: Indicates the category of skill level\n",
    "\n",
    "`subscribe`: Indicates whether a player is subscribed (TRUE) or not (FALSE), a logical value\n",
    "\n",
    "`hashed_email`: Indicates the players unique email, character data\n",
    "\n",
    "`played_hours`: Indicates number of hours spent playing, a numeric value\n",
    "\n",
    "`name`: Indicates the players name, character data\n",
    "\n",
    "`gender`: Indicates the players gender identity, a categorical value\n",
    "\n",
    "`age`: Indicates the players age in years, a numeric value\n",
    "\n",
    "-There are two main issues in this data set. \n",
    "1. There is an option for players to report \"prefer not to say\" for gender. This could cause issues when using gender as a predictive variable as it introduces uncertainty and missing data.\n",
    "2. The other issue in the data are the NA (missing data) values throughout the columns, this could lead to less accurate predictions.\n",
    "\n",
    "   \n",
    "   \n",
    "\n",
    "\n",
    "\n",
    "\n"
   ]
  },
  {
   "cell_type": "code",
   "execution_count": null,
   "id": "8f9eea7a-3526-4e74-bf10-ec472fbc7f3b",
   "metadata": {},
   "outputs": [],
   "source": [
    "nrow(player_data)"
   ]
  },
  {
   "cell_type": "markdown",
   "id": "7920fe1c-cc65-4ab0-9850-cdf45ef9844c",
   "metadata": {},
   "source": [
    "(2) **Question**\n",
    "\n",
    "My question will investigate if age can help predict the playing time of users in the `player_csv` dataset.\n",
    "\n",
    "\n",
    "This question connects to the broad question of what \"kinds\" of players contribute the most data to the server. It looks at the age range of users who spend the most hours playing, specifiying the \"kind\" of player by their age, and interpreting the most contribution of data to the server as the amount of hours spent playing. \n",
    "\n",
    "The `player_csv` dataset will help to answer this predictive question as it contains information about the `age` and `played_hours`. Having a large age range will help identify trends and correlations. A narrow range would cause the model to predict from a limited range of data, making it less accurate.\n",
    "\n",
    "\n"
   ]
  },
  {
   "cell_type": "markdown",
   "id": "93dd1dd6-66c0-4d50-9e67-80f1f0f011be",
   "metadata": {},
   "source": [
    "(3) **Exploratory Data Analysis and Visualization**"
   ]
  },
  {
   "cell_type": "markdown",
   "id": "82f3326a-2361-4d94-8ff7-f0f82d4cbfa6",
   "metadata": {},
   "source": [
    "Attach needed packages"
   ]
  },
  {
   "cell_type": "code",
   "execution_count": null,
   "id": "905c5346-13c1-4e1e-b311-ea86a5d49598",
   "metadata": {},
   "outputs": [],
   "source": [
    "library(repr)\n",
    "library(tidyverse)\n",
    "library(tidymodels)\n",
    "library(GGally)\n",
    "library(ISLR)\n",
    "set.seed(5)\n",
    "options(repr.matrix.max.rows = 10)\n",
    "source(\"cleanup.R\")"
   ]
  },
  {
   "cell_type": "markdown",
   "id": "e293bc98-ff1f-4462-b899-93b894a4fc99",
   "metadata": {},
   "source": [
    "Upload Player Data"
   ]
  },
  {
   "cell_type": "code",
   "execution_count": null,
   "id": "76bb0ad3-5a12-4c9f-9d17-fbb12a3aef45",
   "metadata": {},
   "outputs": [],
   "source": [
    "player_data <- read_csv(\"https://raw.githubusercontent.com/bellamartens/Individual_Project/refs/heads/main/players.csv\")\n",
    "\n",
    "player_data"
   ]
  },
  {
   "cell_type": "markdown",
   "id": "be49838a-6f91-4689-98fd-5bdbb0b4f67b",
   "metadata": {},
   "source": [
    "Wrangle data as needed"
   ]
  },
  {
   "cell_type": "code",
   "execution_count": null,
   "id": "902c8d72-8fc5-4021-b8cb-42618195cb16",
   "metadata": {},
   "outputs": [],
   "source": [
    "player_data <- rename(player_data,\n",
    "                      hashed_email = hashedEmail,\n",
    "                      age = Age)\n",
    "player_data                 "
   ]
  },
  {
   "cell_type": "markdown",
   "id": "4b5f8f0c-6c19-4dc0-913c-9eb67355ae23",
   "metadata": {},
   "source": [
    "Compute average of **quantitative** values"
   ]
  },
  {
   "cell_type": "code",
   "execution_count": null,
   "id": "dc80e827-9154-41a9-b0d7-f751d9fbbc6e",
   "metadata": {},
   "outputs": [],
   "source": [
    "avg_played_hours <- player_data |>\n",
    "             summarize(avg_played_hours = mean(played_hours, na.rm = TRUE))\n",
    "\n",
    "avg_age <- player_data |>\n",
    "                summarize(avg_age = mean(age, na.rm = TRUE))\n",
    "                       \n",
    "avg_played_hours\n",
    "avg_age"
   ]
  },
  {
   "cell_type": "markdown",
   "id": "08ad24a1-d319-4c49-a359-fb7bc610f6aa",
   "metadata": {},
   "source": [
    "Report values in a Table"
   ]
  },
  {
   "cell_type": "markdown",
   "id": "172bd1f9-f985-4d39-9040-7f7a588b9370",
   "metadata": {},
   "source": [
    "| Average Hours Played | Average Age|\n",
    "|---|---|\n",
    "| 6 | 21 |"
   ]
  },
  {
   "cell_type": "markdown",
   "id": "7baabcc8-7fcf-4ffe-bdac-19972f8206d6",
   "metadata": {},
   "source": [
    "Visualize the data"
   ]
  },
  {
   "cell_type": "code",
   "execution_count": null,
   "id": "693e4498-3224-4c8c-8aa2-9ae83dff7eed",
   "metadata": {},
   "outputs": [],
   "source": [
    "options(repr.plot.width = 7, repr.plot.height = 7) \n",
    "\n",
    "plot_1 <- player_data |>\n",
    "          ggplot(aes(x = age, y = played_hours)) +\n",
    "          geom_point () +\n",
    "          labs(x = \"User Age\", y = \"Time spent playing (hours)\") +\n",
    "          ggtitle(\"How age influences playing hours\") +\n",
    " theme(text = element_text(size = 13))\n",
    "\n",
    "plot_1\n"
   ]
  },
  {
   "cell_type": "markdown",
   "id": "0093e123-1bcd-4882-bf75-fcff97540e27",
   "metadata": {},
   "source": [
    "This scatter plot very loosely shows that ages ranging between 16-22 may have higher playing hours. These are the only ages where there are outliers with very high playing hours (150hrs+). However much of the data doesn't report playing hours for many of the ages, meaning the relationship is unable to be confirmed."
   ]
  },
  {
   "cell_type": "code",
   "execution_count": null,
   "id": "5da86aae-5849-49ed-aa66-d3371d90c1d7",
   "metadata": {},
   "outputs": [],
   "source": [
    "options(repr.plot.width = 7, repr.plot.height = 7) \n",
    "\n",
    "\n",
    "plot_2 <- player_data |>\n",
    "        ggplot(aes(x = age, y = played_hours)) +\n",
    "        geom_bar(stat = \"identity\") +\n",
    "        labs(x = \"User Age\", y = \"Time spent playing (hours)\") +\n",
    "        ggtitle(\"How age influences playing hours\") +      \n",
    "theme(text = element_text(size = 13))\n",
    "\n",
    "plot_2\n",
    "        "
   ]
  },
  {
   "cell_type": "markdown",
   "id": "0ad1f40c-68f2-4716-a6c8-ebe6edccb2c8",
   "metadata": {},
   "source": [
    "From this bar plot, we can clearly see that the ages with the highest playing hours fall between 15-20 years of age. This basic visualization already provides valuable insight into the potential relationship between the two variables by showing that \n",
    "younger people spend more time playing."
   ]
  },
  {
   "cell_type": "markdown",
   "id": "af749019-ec1e-44da-9ead-16e7387f6ffd",
   "metadata": {},
   "source": [
    "(4) **Methods and Plan**"
   ]
  },
  {
   "cell_type": "markdown",
   "id": "b42e6241-0160-4c45-a2bf-d4bf4913ec46",
   "metadata": {},
   "source": [
    "\n",
    "The method that will be used to address the question will be K-nearest regression using a KNN model. \n",
    "The question is trying to investigate how a players age can predict what their playing hours will be, predicting a numerical \n",
    "value requires regression. \n",
    "\n",
    "This is an appropriate model to use because the data set is not overly large, we are working with only one predictor, and the range of values inputted in the training data is relatively large. However potential limitations of the model may include sensitivity to outliers which could impact distance calculations. \n",
    "\n",
    "The steps to investigate the data will follow the standard process. First, the data will be split into training and testing sets, storing about 80% of the data while testing on 20% of it. The data will be standardized, the model will be trained and the best K value will be chosen through cross-validation. Cross validation will occur by splitting the training data into 5 folds, and then further training and evaluating the model. Once the best K value has been selected the testing data will be evaluated with the chosen K. "
   ]
  },
  {
   "cell_type": "code",
   "execution_count": null,
   "id": "d22c5a77-63fd-41fe-88d6-3240aa75b00c",
   "metadata": {},
   "outputs": [],
   "source": [
    "#Split the data into testing and training sets\n",
    "\n",
    "age_split <- initial_split(player_data, prop = 0.75, strata = played_hours)\n",
    "age_training <- training(age_split)\n",
    "age_testing <- testing(age_split)\n",
    "\n",
    "head(age_training)\n",
    "\n",
    "nrow(age_training)\n",
    "nrow(age_testing)\n",
    "\n",
    "#Create a preprocessing recipe that standardizes the data\n",
    "\n",
    "age_recipe <- recipe(played_hours ~ age, data = age_training) |>\n",
    "                        step_center(all_predictors()) |>\n",
    "                        step_scale(all_predictors())\n",
    "\n",
    "#Create a KNN model\n",
    "\n",
    "age_spec <- nearest_neighbor(weight_func = \"rectangular\", neighbors = tune()) |>\n",
    "                      set_engine(\"kknn\") |>\n",
    "                      set_mode(\"regression\")\n",
    "\n",
    "#Choose best K value\n",
    "\n",
    "age_vfold <- vfold_cv(age_training, v = 5, strata = age)\n",
    "\n",
    "age_workflow <- workflow() |>\n",
    "                        add_recipe(age_recipe) |>\n",
    "                        add_model(age_spec)\n",
    "\n",
    "gridvals <- tibble(neighbors = seq(1,10))\n",
    "\n",
    "age_results <- age_workflow |>\n",
    "                       tune_grid(resamples = age_vfold, grid = gridvals) |>\n",
    "                       collect_metrics() \n",
    "\n",
    "#select the value of k resulting in best RMSE\n",
    "\n",
    "age_min <- age_results |>\n",
    "               filter(.metric == 'rmse') |>\n",
    "               filter(mean == min(mean))  |> \n",
    "               pull(neighbors) #this might be wrong\n",
    "\n",
    "#retrain the model using that final k, predict on held-out data\n",
    "\n",
    "age_spec_2 <- nearest_neighbor(weight_func = \"rectangular\", neighbors = age_min) |>\n",
    "  set_engine(\"kknn\") |>\n",
    "  set_mode(\"regression\")\n",
    "\n",
    "age_fit <- workflow() |>\n",
    "  add_recipe(age_recipe) |>\n",
    "  add_model(age_spec_2) |>\n",
    "  fit(data = age_training)\n",
    "\n",
    "knn_rmspe <- age_fit |>\n",
    "  predict(age_testing) |>\n",
    "  bind_cols(age_testing) |>\n",
    "  metrics(truth = played_hours, estimate = .pred)|>\n",
    "  filter(.metric == 'rmse') |>\n",
    "  pull(.estimate) \n",
    "### END SOLUTION\n",
    "knn_rmspe\n"
   ]
  },
  {
   "cell_type": "code",
   "execution_count": null,
   "id": "bc8c5804-70a0-40ea-be55-6f23651c10d7",
   "metadata": {},
   "outputs": [],
   "source": []
  }
 ],
 "metadata": {
  "kernelspec": {
   "display_name": "R",
   "language": "R",
   "name": "ir"
  },
  "language_info": {
   "codemirror_mode": "r",
   "file_extension": ".r",
   "mimetype": "text/x-r-source",
   "name": "R",
   "pygments_lexer": "r",
   "version": "4.3.3"
  }
 },
 "nbformat": 4,
 "nbformat_minor": 5
}
